{
 "cells": [
  {
   "cell_type": "markdown",
   "id": "f7821e25",
   "metadata": {},
   "source": []
  },
  {
   "cell_type": "markdown",
   "id": "0197a59d",
   "metadata": {},
   "source": [
    "#Cosas a limpiar\n",
    "archivo csv\n",
    "\n",
    "●   **Unamed: 0** darle nombre se trata de un dato de registro, viene a ser un id numérico Cambiar nombre de la columna a registration  \n",
    "●   **age**: cambiar dato a tipo integer    \n",
    "●\t**job**:  la categoría  \"admin.\" es la única que aparece abreviado, cambiar nombre a \"administrative\"    \n",
    "●\t**marital**: Catergorías en mayúsculas-> cambiar a minusculas  \n",
    "●\t**default**: estudiar el cambio a boolean, o Yes/No, ahora mismo es float   \n",
    "●\t**housing**: estudiar el cambio a boolean, o Yes/No, ahora mismo es float   \n",
    "●\t**loan**: estudiar el cambio a boolean, o Yes/No, ahora mismo es float    \n",
    "●\t**cons.price.idx**: cambiar a float   \n",
    "●\t**cons.conf.idx**: cambiar a float    \n",
    "●\t**euribor3m**: cambiar a float   \n",
    "●\t**nr.employed**: No parece tener sentido hablar de numero de empleados pero quizas si de ID de empleado que realiza la campaña. El dato es un numero en algunos caso decimal    \n",
    "●\t**y**: estudiar cambioa  boolean    \n",
    "●\t**date**: cambio de a tipo fecha   \n",
    "●\t**contact_month**: conjunto de datos presenta columna latitude (no tiene sentido)    \n",
    "●\t**contact_year**: conjunto de datos presenta columna longitude (no tiene sentido)     \n",
    "\n",
    "\n"
   ]
  },
  {
   "cell_type": "markdown",
   "metadata": {},
   "source": []
  }
 ],
 "metadata": {
  "language_info": {
   "name": "python"
  }
 },
 "nbformat": 4,
 "nbformat_minor": 5
}
