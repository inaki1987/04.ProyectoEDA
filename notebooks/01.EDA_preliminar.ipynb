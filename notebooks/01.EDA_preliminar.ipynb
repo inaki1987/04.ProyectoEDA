{
 "cells": [
  {
   "cell_type": "code",
   "execution_count": null,
   "metadata": {},
   "outputs": [],
   "source": [
    "import pandas as pd\n",
    "import sys\n",
    "sys.path.append('../')\n",
    "from src import sp_eda as se\n",
    "pd.set_option('display.max_columns', None)"
   ]
  },
  {
   "cell_type": "code",
   "execution_count": null,
   "id": "33e56ac0",
   "metadata": {},
   "outputs": [],
   "source": [
    "df=pd.read_csv('../data/bank-additional.csv')"
   ]
  },
  {
   "cell_type": "code",
   "execution_count": null,
   "id": "7d65881c",
   "metadata": {},
   "outputs": [],
   "source": [
    "se.eda_prelim(df)"
   ]
  },
  {
   "cell_type": "code",
   "execution_count": null,
   "id": "ed6335ea",
   "metadata": {},
   "outputs": [],
   "source": []
  }
 ],
 "metadata": {
  "kernelspec": {
   "display_name": "kernelEDA",
   "language": "python",
   "name": "python3"
  },
  "language_info": {
   "codemirror_mode": {
    "name": "ipython",
    "version": 3
   },
   "file_extension": ".py",
   "mimetype": "text/x-python",
   "name": "python",
   "nbconvert_exporter": "python",
   "pygments_lexer": "ipython3",
   "version": "3.13.1"
  }
 },
 "nbformat": 4,
 "nbformat_minor": 5
}
